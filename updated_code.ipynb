{
 "cells": [
  {
   "cell_type": "code",
   "execution_count": 1,
   "metadata": {
    "_cell_guid": "79c7e3d0-c299-4dcb-8224-4455121ee9b0",
    "_uuid": "d629ff2d2480ee46fbb7e2d37f6b5fab8052498a"
   },
   "outputs": [],
   "source": [
    "import pandas as pd\n",
    "import numpy as np\n",
    "import json\n",
    "import nltk\n",
    "import re\n",
    "import csv\n",
    "import matplotlib.pyplot as plt \n",
    "import seaborn as sns\n",
    "from tqdm import tqdm\n",
    "from collections import Counter\n",
    "from sklearn.feature_extraction.text import TfidfVectorizer\n",
    "from sklearn.model_selection import train_test_split\n",
    "from sklearn.naive_bayes import MultinomialNB\n",
    "from sklearn.naive_bayes import GaussianNB\n",
    "from sklearn.naive_bayes import BernoulliNB\n",
    "from sklearn.svm import SVC\n",
    "from sklearn.neural_network import MLPClassifier\n",
    "from sklearn.ensemble import AdaBoostClassifier\n",
    "from sklearn.tree import DecisionTreeClassifier\n",
    "from sklearn.ensemble import RandomForestClassifier\n",
    "from sklearn.ensemble import GradientBoostingClassifier\n",
    "from sklearn.linear_model import LogisticRegression\n",
    "from sklearn.model_selection import GridSearchCV\n",
    "from sklearn.metrics import accuracy_score,f1_score, confusion_matrix\n",
    "import spacy\n",
    "from sklearn.preprocessing import LabelEncoder\n",
    "\n",
    "%matplotlib inline\n",
    "pd.set_option('display.max_colwidth', 300)"
   ]
  },
  {
   "cell_type": "code",
   "execution_count": 2,
   "metadata": {},
   "outputs": [
    {
     "data": {
      "text/html": [
       "<div>\n",
       "<style scoped>\n",
       "    .dataframe tbody tr th:only-of-type {\n",
       "        vertical-align: middle;\n",
       "    }\n",
       "\n",
       "    .dataframe tbody tr th {\n",
       "        vertical-align: top;\n",
       "    }\n",
       "\n",
       "    .dataframe thead th {\n",
       "        text-align: right;\n",
       "    }\n",
       "</style>\n",
       "<table border=\"1\" class=\"dataframe\">\n",
       "  <thead>\n",
       "    <tr style=\"text-align: right;\">\n",
       "      <th></th>\n",
       "      <th>Release Year</th>\n",
       "      <th>Title</th>\n",
       "      <th>Language</th>\n",
       "      <th>Director</th>\n",
       "      <th>Cast</th>\n",
       "      <th>Genre</th>\n",
       "      <th>Plot</th>\n",
       "      <th>Rating</th>\n",
       "    </tr>\n",
       "  </thead>\n",
       "  <tbody>\n",
       "    <tr>\n",
       "      <th>182</th>\n",
       "      <td>2014</td>\n",
       "      <td>Sigaram Thodu</td>\n",
       "      <td>Tamil</td>\n",
       "      <td>Gaurav</td>\n",
       "      <td>Vikram Prabhu, Monal Gajjar, Sathyaraj</td>\n",
       "      <td>action</td>\n",
       "      <td>Muralipandian alias Murali (Vikram Prabhu) is the only son of Chellapandian (Chellapa) (Sathyaraj), a disabled policeman who is now working in the State Crime Records Bureau and expresses a desire to see his son in the police one day. However, Murali is against becoming a policeman due to an inc...</td>\n",
       "      <td>7.3</td>\n",
       "    </tr>\n",
       "    <tr>\n",
       "      <th>131</th>\n",
       "      <td>2014</td>\n",
       "      <td>Jilla</td>\n",
       "      <td>Tamil</td>\n",
       "      <td>R. T. Neason</td>\n",
       "      <td>Mohanlal, Vijay, Kajal Aggarwal, Mahat, Niveda Thomas</td>\n",
       "      <td>action-masala</td>\n",
       "      <td>Sakthi (Vijay) is the adopted son of a Madurai-based don Sivan (Mohanlal) and is also his right-hand man, bodyguard and driver. He hates the police due to a police officer killing his father, who was Sivan's driver, in his childhood. His hatred is such that he hates the khaki colour (which is wo...</td>\n",
       "      <td>6.0</td>\n",
       "    </tr>\n",
       "    <tr>\n",
       "      <th>122</th>\n",
       "      <td>2013</td>\n",
       "      <td>Ravana Desam</td>\n",
       "      <td>Tamil</td>\n",
       "      <td>Ajay Nuthakki</td>\n",
       "      <td>Ajay Nuthakki, Jennifer, Naveen, Konda, Ramkiran</td>\n",
       "      <td>war drama</td>\n",
       "      <td>The film begins in Sri Lanka during the civil war between the Sri Lanka Army and the Liberation Tigers of Tamil Eelam, who are fighting for a separate nation for Tamils. The movie tells the story of refugees who went missing while trying to escape the fighting by crossing the border with illegal...</td>\n",
       "      <td>5.5</td>\n",
       "    </tr>\n",
       "    <tr>\n",
       "      <th>411</th>\n",
       "      <td>2017</td>\n",
       "      <td>Sathya</td>\n",
       "      <td>Tamil</td>\n",
       "      <td>Pradeep Krishnamoorthy</td>\n",
       "      <td>Sibi Sathyaraj, Remya Nambeesan, Varalaxmi Sarathkumar</td>\n",
       "      <td>crime thriller</td>\n",
       "      <td>Sathya (Sibi Sathyaraj), Who is working in Sydney, Australia gets a voice call from Shweta(Remya Nambeesan), his ex-lover. They worked in the same Office and wanted to marry, but her father arranged an alliance with an entrepreneur named Gowtham. Sathya leaves for India with the pretense of atte...</td>\n",
       "      <td>5.5</td>\n",
       "    </tr>\n",
       "    <tr>\n",
       "      <th>219</th>\n",
       "      <td>2015</td>\n",
       "      <td>Tamiluku En Ondrai Aluthavum</td>\n",
       "      <td>Tamil</td>\n",
       "      <td>Ram Prakash Rayappa</td>\n",
       "      <td>Attakathi Dinesh, Nakul, Bindu Madhavi, Aishwarya Dutta</td>\n",
       "      <td>social thriller</td>\n",
       "      <td>A deadly bomb will be activated if a computer geek restores a part of Chennai city's mobile networks, which are down due to a solar flare. Four people are linked to each other on a deadly mission.\\r\\nMukil (Dinesh Ravi) falls in love with Simi (Bindu Madhavi), who is stuck in a pit hole with an ...</td>\n",
       "      <td>6.9</td>\n",
       "    </tr>\n",
       "  </tbody>\n",
       "</table>\n",
       "</div>"
      ],
      "text/plain": [
       "     Release Year                         Title Language  \\\n",
       "182          2014                 Sigaram Thodu    Tamil   \n",
       "131          2014                         Jilla    Tamil   \n",
       "122          2013                  Ravana Desam    Tamil   \n",
       "411          2017                        Sathya    Tamil   \n",
       "219          2015  Tamiluku En Ondrai Aluthavum    Tamil   \n",
       "\n",
       "                   Director  \\\n",
       "182                  Gaurav   \n",
       "131            R. T. Neason   \n",
       "122           Ajay Nuthakki   \n",
       "411  Pradeep Krishnamoorthy   \n",
       "219     Ram Prakash Rayappa   \n",
       "\n",
       "                                                        Cast            Genre  \\\n",
       "182                   Vikram Prabhu, Monal Gajjar, Sathyaraj           action   \n",
       "131    Mohanlal, Vijay, Kajal Aggarwal, Mahat, Niveda Thomas    action-masala   \n",
       "122         Ajay Nuthakki, Jennifer, Naveen, Konda, Ramkiran        war drama   \n",
       "411   Sibi Sathyaraj, Remya Nambeesan, Varalaxmi Sarathkumar   crime thriller   \n",
       "219  Attakathi Dinesh, Nakul, Bindu Madhavi, Aishwarya Dutta  social thriller   \n",
       "\n",
       "                                                                                                                                                                                                                                                                                                            Plot  \\\n",
       "182  Muralipandian alias Murali (Vikram Prabhu) is the only son of Chellapandian (Chellapa) (Sathyaraj), a disabled policeman who is now working in the State Crime Records Bureau and expresses a desire to see his son in the police one day. However, Murali is against becoming a policeman due to an inc...   \n",
       "131  Sakthi (Vijay) is the adopted son of a Madurai-based don Sivan (Mohanlal) and is also his right-hand man, bodyguard and driver. He hates the police due to a police officer killing his father, who was Sivan's driver, in his childhood. His hatred is such that he hates the khaki colour (which is wo...   \n",
       "122  The film begins in Sri Lanka during the civil war between the Sri Lanka Army and the Liberation Tigers of Tamil Eelam, who are fighting for a separate nation for Tamils. The movie tells the story of refugees who went missing while trying to escape the fighting by crossing the border with illegal...   \n",
       "411  Sathya (Sibi Sathyaraj), Who is working in Sydney, Australia gets a voice call from Shweta(Remya Nambeesan), his ex-lover. They worked in the same Office and wanted to marry, but her father arranged an alliance with an entrepreneur named Gowtham. Sathya leaves for India with the pretense of atte...   \n",
       "219  A deadly bomb will be activated if a computer geek restores a part of Chennai city's mobile networks, which are down due to a solar flare. Four people are linked to each other on a deadly mission.\\r\\nMukil (Dinesh Ravi) falls in love with Simi (Bindu Madhavi), who is stuck in a pit hole with an ...   \n",
       "\n",
       "     Rating  \n",
       "182     7.3  \n",
       "131     6.0  \n",
       "122     5.5  \n",
       "411     5.5  \n",
       "219     6.9  "
      ]
     },
     "execution_count": 2,
     "metadata": {},
     "output_type": "execute_result"
    }
   ],
   "source": [
    "df = pd.read_csv('BigData Boss DATASET.csv')\n",
    "df.sample(5)"
   ]
  },
  {
   "cell_type": "code",
   "execution_count": 3,
   "metadata": {},
   "outputs": [
    {
     "data": {
      "text/plain": [
       "(416, 8)"
      ]
     },
     "execution_count": 3,
     "metadata": {},
     "output_type": "execute_result"
    }
   ],
   "source": [
    "df.shape"
   ]
  },
  {
   "cell_type": "code",
   "execution_count": 4,
   "metadata": {},
   "outputs": [
    {
     "data": {
      "text/plain": [
       "80"
      ]
     },
     "execution_count": 4,
     "metadata": {},
     "output_type": "execute_result"
    }
   ],
   "source": [
    "len(df.Genre.unique())"
   ]
  },
  {
   "cell_type": "code",
   "execution_count": 5,
   "metadata": {},
   "outputs": [
    {
     "data": {
      "text/html": [
       "<div>\n",
       "<style scoped>\n",
       "    .dataframe tbody tr th:only-of-type {\n",
       "        vertical-align: middle;\n",
       "    }\n",
       "\n",
       "    .dataframe tbody tr th {\n",
       "        vertical-align: top;\n",
       "    }\n",
       "\n",
       "    .dataframe thead th {\n",
       "        text-align: right;\n",
       "    }\n",
       "</style>\n",
       "<table border=\"1\" class=\"dataframe\">\n",
       "  <thead>\n",
       "    <tr style=\"text-align: right;\">\n",
       "      <th></th>\n",
       "      <th>Release Year</th>\n",
       "      <th>Title</th>\n",
       "      <th>Language</th>\n",
       "      <th>Director</th>\n",
       "      <th>Cast</th>\n",
       "      <th>Genre</th>\n",
       "      <th>Plot</th>\n",
       "      <th>Rating</th>\n",
       "    </tr>\n",
       "  </thead>\n",
       "  <tbody>\n",
       "    <tr>\n",
       "      <th>326</th>\n",
       "      <td>2016</td>\n",
       "      <td>Bayam Oru Payanam</td>\n",
       "      <td>Tamil</td>\n",
       "      <td>Manisharma</td>\n",
       "      <td>Bharath Reddy, Vishakha Singh, Meenakshi Dixit</td>\n",
       "      <td>horror</td>\n",
       "      <td>The film opens as the child of a photo journalist Ram (Bharath Reddy) has a nightmare of his father’s car meeting with a terrible accident and the very next day he has to go alone to a forest to shoot some pictures. A broker Kavariman (Singampuli) guides Ram to a deserted bungalow whose watchman...</td>\n",
       "      <td>5.5</td>\n",
       "    </tr>\n",
       "    <tr>\n",
       "      <th>145</th>\n",
       "      <td>2014</td>\n",
       "      <td>Cuckoo</td>\n",
       "      <td>Tamil</td>\n",
       "      <td>Raju Murugan</td>\n",
       "      <td>Attakathi Dinesh, Malavika Nair</td>\n",
       "      <td>romantic</td>\n",
       "      <td>Tamizh is a visually-impaired young man who works as a singer for an entertainment troupe. During one of the weddings he performs at, he meets Sudhanthirakodi, a young woman, who is studying to become a teacher and is also visually-impaired. Tamizh teases her, causing her to leave him waiting fo...</td>\n",
       "      <td>6.4</td>\n",
       "    </tr>\n",
       "    <tr>\n",
       "      <th>187</th>\n",
       "      <td>2014</td>\n",
       "      <td>Maindhan</td>\n",
       "      <td>Tamil</td>\n",
       "      <td>Kumaresan</td>\n",
       "      <td>Kumaresan, Shaila Nair, Hanuman, Geetha</td>\n",
       "      <td>drama</td>\n",
       "      <td>Ramasamy Mudaliar (Kalyan Kumar) is a village chief who follows Gandhian principles while his son Jeeva (Selva) is a jobless youth. Lakshmi (Nirosha) is in love with her cousin Jeeva. Velayudam Pillai (Napoleon), a rich villager, plans to buy the village farmers' grounds and to build there a liq...</td>\n",
       "      <td>4.7</td>\n",
       "    </tr>\n",
       "    <tr>\n",
       "      <th>270</th>\n",
       "      <td>2015</td>\n",
       "      <td>Thoongaa Vanam</td>\n",
       "      <td>Tamil</td>\n",
       "      <td>Rajesh M. Selva</td>\n",
       "      <td>Kamal Haasan, Trisha, Prakash Raj, Kishore, Sampath Raj</td>\n",
       "      <td>crime</td>\n",
       "      <td>The film begins with Diwakar (Kamal Haasan), an Indian Revenue Service officer in the Narcotics Control Bureau, and his deputy Mani (Yugi Sethu), busting a narcotics scam. In retribution, Vittal Rao (Prakash Raj), a drug smuggler who had masterminded the scam, kidnaps Diwakar's son Vasu (Aman Ab...</td>\n",
       "      <td>7.9</td>\n",
       "    </tr>\n",
       "    <tr>\n",
       "      <th>356</th>\n",
       "      <td>2017</td>\n",
       "      <td>Yaman</td>\n",
       "      <td>Tamil</td>\n",
       "      <td>Jeeva Shankar</td>\n",
       "      <td>Vijay Antony, Miya, Thiagarajan</td>\n",
       "      <td>political</td>\n",
       "      <td>As the film begins, Devarakonda Gandhi (Vijay Antony) is killed by his rivals who fear that their position would be threatened if he were to make it big in politics. Decades later, his son Ashok Chakravarthy (Vijay Antony, again) accidentallyis drawn into the murky world of behind-the-screens po...</td>\n",
       "      <td>3.7</td>\n",
       "    </tr>\n",
       "  </tbody>\n",
       "</table>\n",
       "</div>"
      ],
      "text/plain": [
       "     Release Year              Title Language         Director  \\\n",
       "326          2016  Bayam Oru Payanam    Tamil       Manisharma   \n",
       "145          2014             Cuckoo    Tamil     Raju Murugan   \n",
       "187          2014           Maindhan    Tamil        Kumaresan   \n",
       "270          2015     Thoongaa Vanam    Tamil  Rajesh M. Selva   \n",
       "356          2017              Yaman    Tamil    Jeeva Shankar   \n",
       "\n",
       "                                                        Cast      Genre  \\\n",
       "326           Bharath Reddy, Vishakha Singh, Meenakshi Dixit     horror   \n",
       "145                          Attakathi Dinesh, Malavika Nair   romantic   \n",
       "187                  Kumaresan, Shaila Nair, Hanuman, Geetha      drama   \n",
       "270  Kamal Haasan, Trisha, Prakash Raj, Kishore, Sampath Raj      crime   \n",
       "356                          Vijay Antony, Miya, Thiagarajan  political   \n",
       "\n",
       "                                                                                                                                                                                                                                                                                                            Plot  \\\n",
       "326  The film opens as the child of a photo journalist Ram (Bharath Reddy) has a nightmare of his father’s car meeting with a terrible accident and the very next day he has to go alone to a forest to shoot some pictures. A broker Kavariman (Singampuli) guides Ram to a deserted bungalow whose watchman...   \n",
       "145  Tamizh is a visually-impaired young man who works as a singer for an entertainment troupe. During one of the weddings he performs at, he meets Sudhanthirakodi, a young woman, who is studying to become a teacher and is also visually-impaired. Tamizh teases her, causing her to leave him waiting fo...   \n",
       "187  Ramasamy Mudaliar (Kalyan Kumar) is a village chief who follows Gandhian principles while his son Jeeva (Selva) is a jobless youth. Lakshmi (Nirosha) is in love with her cousin Jeeva. Velayudam Pillai (Napoleon), a rich villager, plans to buy the village farmers' grounds and to build there a liq...   \n",
       "270  The film begins with Diwakar (Kamal Haasan), an Indian Revenue Service officer in the Narcotics Control Bureau, and his deputy Mani (Yugi Sethu), busting a narcotics scam. In retribution, Vittal Rao (Prakash Raj), a drug smuggler who had masterminded the scam, kidnaps Diwakar's son Vasu (Aman Ab...   \n",
       "356  As the film begins, Devarakonda Gandhi (Vijay Antony) is killed by his rivals who fear that their position would be threatened if he were to make it big in politics. Decades later, his son Ashok Chakravarthy (Vijay Antony, again) accidentallyis drawn into the murky world of behind-the-screens po...   \n",
       "\n",
       "     Rating  \n",
       "326     5.5  \n",
       "145     6.4  \n",
       "187     4.7  \n",
       "270     7.9  \n",
       "356     3.7  "
      ]
     },
     "execution_count": 5,
     "metadata": {},
     "output_type": "execute_result"
    }
   ],
   "source": [
    "df[\"Genre\"] = df[\"Genre\"].apply(lambda x: x.split()[0])\n",
    "df[\"Genre\"] = df[\"Genre\"].apply(lambda x: x.replace(r\"/\", \"\"))\n",
    "df[\"Genre\"] = df[\"Genre\"].apply(lambda x: x.replace(\"—\", \" \"))\n",
    "df[\"Genre\"] = df[\"Genre\"].apply(lambda x: x.replace(\"-\", \" \"))\n",
    "df[\"Genre\"] = df[\"Genre\"].apply(lambda x: x.split()[0])\n",
    "df[\"Genre\"] = df[\"Genre\"].apply(lambda x: x.replace(r\",\", \"\"))\n",
    "df[\"Genre\"] = df[\"Genre\"].apply(lambda x: x.replace(r\"romanctic\", \"romantic\"))\n",
    "df[\"Genre\"] = df[\"Genre\"].apply(lambda x: x.replace(r\"sci\", \"scifi\"))\n",
    "df[\"Genre\"] = df[\"Genre\"].apply(lambda x: x.replace(r\"romance\", \"romantic\"))\n",
    "df.sample(5)"
   ]
  },
  {
   "cell_type": "code",
   "execution_count": 6,
   "metadata": {},
   "outputs": [
    {
     "data": {
      "text/plain": [
       "(406, 8)"
      ]
     },
     "execution_count": 6,
     "metadata": {},
     "output_type": "execute_result"
    }
   ],
   "source": [
    "df = df[~df[\"Genre\"].isin(['scifience', 'mob','unknown','road'])]\n",
    "df.shape"
   ]
  },
  {
   "cell_type": "code",
   "execution_count": 7,
   "metadata": {},
   "outputs": [
    {
     "data": {
      "text/plain": [
       "array(['drama', 'comedy', 'sports', 'action', 'romantic', 'thriller',\n",
       "       'period', 'political', 'fantasy', 'gangster', 'masala', 'crime',\n",
       "       'psychological', 'superhero', 'spy', 'adult', 'black', 'war',\n",
       "       'historical', 'horror', 'animation', 'biopic', 'heist', 'family',\n",
       "       'scifi', 'social', 'anthology', 'supernatural', 'epic',\n",
       "       'biography', 'musical'], dtype=object)"
      ]
     },
     "execution_count": 7,
     "metadata": {},
     "output_type": "execute_result"
    }
   ],
   "source": [
    "df.Genre.unique()"
   ]
  },
  {
   "cell_type": "code",
   "execution_count": 8,
   "metadata": {},
   "outputs": [
    {
     "data": {
      "text/plain": [
       "action           92\n",
       "romantic         66\n",
       "comedy           63\n",
       "drama            53\n",
       "thriller         28\n",
       "horror           25\n",
       "crime            15\n",
       "fantasy          12\n",
       "political         6\n",
       "psychological     5\n",
       "supernatural      5\n",
       "sports            5\n",
       "masala            4\n",
       "social            4\n",
       "spy               2\n",
       "heist             2\n",
       "historical        2\n",
       "period            2\n",
       "family            2\n",
       "adult             2\n",
       "black             1\n",
       "war               1\n",
       "superhero         1\n",
       "musical           1\n",
       "biography         1\n",
       "epic              1\n",
       "animation         1\n",
       "gangster          1\n",
       "scifi             1\n",
       "biopic            1\n",
       "anthology         1\n",
       "Name: Genre, dtype: int64"
      ]
     },
     "execution_count": 8,
     "metadata": {},
     "output_type": "execute_result"
    }
   ],
   "source": [
    "df.Genre.value_counts()"
   ]
  },
  {
   "cell_type": "code",
   "execution_count": 9,
   "metadata": {},
   "outputs": [
    {
     "data": {
      "text/plain": [
       "'action'"
      ]
     },
     "execution_count": 9,
     "metadata": {},
     "output_type": "execute_result"
    }
   ],
   "source": [
    "df.Genre.value_counts().idxmax()"
   ]
  },
  {
   "cell_type": "code",
   "execution_count": 10,
   "metadata": {},
   "outputs": [
    {
     "data": {
      "image/png": "[encoded data removed]",
      "text/plain": [
       "<Figure size 1080x504 with 1 Axes>"
      ]
     },
     "metadata": {
      "needs_background": "light"
     },
     "output_type": "display_data"
    }
   ],
   "source": [
    "figd=(15,7)\n",
    "fig,ax=plt.subplots(figsize=figd)\n",
    "sns.countplot(x = \"Genre\", data=df, order = df.Genre.value_counts().index)\n",
    "plt.xticks(rotation=90)\n",
    "plt.show()"
   ]
  },
  {
   "cell_type": "code",
   "execution_count": 11,
   "metadata": {},
   "outputs": [
    {
     "data": {
      "image/png": "[encoded data removed]",
      "text/plain": [
       "<Figure size 576x360 with 1 Axes>"
      ]
     },
     "metadata": {
      "needs_background": "light"
     },
     "output_type": "display_data"
    }
   ],
   "source": [
    "figd=(8,5)\n",
    "fig,ax=plt.subplots(figsize=figd)\n",
    "sns.countplot(x = \"Release Year\", data=df, order = df[\"Release Year\"].value_counts().index)\n",
    "plt.xticks(rotation=30)\n",
    "plt.show()"
   ]
  },
  {
   "cell_type": "code",
   "execution_count": 12,
   "metadata": {},
   "outputs": [
    {
     "data": {
      "text/plain": [
       "Genre\n",
       "crime            8.6\n",
       "social           8.5\n",
       "action           8.1\n",
       "fantasy          8.1\n",
       "romantic         8.1\n",
       "drama            8.1\n",
       "period           8.0\n",
       "epic             7.9\n",
       "horror           7.9\n",
       "thriller         7.9\n",
       "comedy           7.9\n",
       "supernatural     7.9\n",
       "political        7.9\n",
       "musical          7.6\n",
       "sports           7.3\n",
       "spy              7.3\n",
       "anthology        6.6\n",
       "biopic           6.5\n",
       "psychological    6.4\n",
       "adult            6.4\n",
       "historical       6.2\n",
       "gangster         6.2\n",
       "scifi            6.2\n",
       "family           6.0\n",
       "masala           5.8\n",
       "heist            5.6\n",
       "black            5.6\n",
       "superhero        5.6\n",
       "war              5.5\n",
       "animation        4.8\n",
       "biography        3.7\n",
       "Name: Rating, dtype: float64"
      ]
     },
     "execution_count": 12,
     "metadata": {},
     "output_type": "execute_result"
    }
   ],
   "source": [
    "df.groupby(\"Genre\")[\"Rating\"].max().sort_values(ascending=False)"
   ]
  },
  {
   "cell_type": "code",
   "execution_count": 13,
   "metadata": {},
   "outputs": [
    {
     "data": {
      "image/png": "[encoded data removed]",
      "text/plain": [
       "<Figure size 1080x504 with 1 Axes>"
      ]
     },
     "metadata": {
      "needs_background": "light"
     },
     "output_type": "display_data"
    }
   ],
   "source": [
    "figd=(15,7)\n",
    "fig,ax=plt.subplots(figsize=figd)\n",
    "m = df.groupby(\"Genre\")[\"Rating\"].max().sort_values(ascending=False)\n",
    "sns.barplot(x = m.index, y= m.values, data=df, ci=None)\n",
    "plt.xticks(rotation=90)\n",
    "plt.show()"
   ]
  },
  {
   "cell_type": "code",
   "execution_count": 14,
   "metadata": {},
   "outputs": [],
   "source": [
    "nlp = spacy.load('en_core_web_sm')"
   ]
  },
  {
   "cell_type": "code",
   "execution_count": 15,
   "metadata": {},
   "outputs": [],
   "source": [
    "def normalize(msg):\n",
    "    \n",
    "    doc = nlp(msg)\n",
    "    res=[]\n",
    "    \n",
    "    for token in doc:\n",
    "        if(token.is_stop or token.is_digit or token.is_punct or not(token.is_oov)):\n",
    "            pass\n",
    "        else:\n",
    "            res.append(token.lemma_.lower())\n",
    "    \n",
    "    return \" \".join(res)"
   ]
  },
  {
   "cell_type": "code",
   "execution_count": 16,
   "metadata": {},
   "outputs": [
    {
     "data": {
      "text/html": [
       "<div>\n",
       "<style scoped>\n",
       "    .dataframe tbody tr th:only-of-type {\n",
       "        vertical-align: middle;\n",
       "    }\n",
       "\n",
       "    .dataframe tbody tr th {\n",
       "        vertical-align: top;\n",
       "    }\n",
       "\n",
       "    .dataframe thead th {\n",
       "        text-align: right;\n",
       "    }\n",
       "</style>\n",
       "<table border=\"1\" class=\"dataframe\">\n",
       "  <thead>\n",
       "    <tr style=\"text-align: right;\">\n",
       "      <th></th>\n",
       "      <th>Release Year</th>\n",
       "      <th>Title</th>\n",
       "      <th>Language</th>\n",
       "      <th>Director</th>\n",
       "      <th>Cast</th>\n",
       "      <th>Genre</th>\n",
       "      <th>Plot</th>\n",
       "      <th>Rating</th>\n",
       "      <th>Clean_plot</th>\n",
       "    </tr>\n",
       "  </thead>\n",
       "  <tbody>\n",
       "    <tr>\n",
       "      <th>294</th>\n",
       "      <td>2016</td>\n",
       "      <td>Sawaari</td>\n",
       "      <td>Tamil</td>\n",
       "      <td>Guhan Senniappan</td>\n",
       "      <td>Benito Franklin, Mathivanan Rajendran, Sanam Shetty</td>\n",
       "      <td>thriller</td>\n",
       "      <td>The film starts with a murder mystery. The main plot deals with how an Assistant Commissioner of Police is in the pursuit of finding the psycho killer. There is a sub plot of the film that talks about a harmless driver who aims to deliver a car on time from Chennai to Nellore but ends up getting...</td>\n",
       "      <td>4.8</td>\n",
       "      <td>film start murder mystery main plot deal assistant commissioner police pursuit find psycho killer sub plot film talk harmless driver aim deliver car time chennai nellore end get tangle \\r\\n sawaari road psycho thriller movie see 1950 hollywood kollywood try rajat mukherjee rgv stable try hand ro...</td>\n",
       "    </tr>\n",
       "    <tr>\n",
       "      <th>163</th>\n",
       "      <td>2014</td>\n",
       "      <td>Athithi</td>\n",
       "      <td>Tamil</td>\n",
       "      <td>Bharathan</td>\n",
       "      <td>Nandha, Ananya, Nikesh Ram</td>\n",
       "      <td>thriller</td>\n",
       "      <td>Madhiazhagan (Nandha) is a highly successful project manager at a leading property promoters firm. He's happily wedded to Vasugi (Ananya) and has a five-year-old daughter Pavi. Posh house, heftily paying job, highly appreciative and supportive boss, and a happy family - Madhi's life is a far fet...</td>\n",
       "      <td>5.6</td>\n",
       "      <td>madhiazhagan nandha highly successful project manager lead property promoter firm happily wed vasugi ananya year old daughter pavi posh house heftily pay job highly appreciative supportive boss happy family madhi life far fetched dream people era change day man request drop en route madhi vasu s...</td>\n",
       "    </tr>\n",
       "    <tr>\n",
       "      <th>402</th>\n",
       "      <td>2017</td>\n",
       "      <td>Kalavu Thozhirchalai</td>\n",
       "      <td>Tamil</td>\n",
       "      <td>T. Krishna Shamy</td>\n",
       "      <td>Kathir, Kushi, Vamsi Krishna, Kalanjiyam</td>\n",
       "      <td>drama</td>\n",
       "      <td>An idol smuggler comes to a village to steal a Shiva idol worth 600 crores. The story begins with an international criminal (Vamsi Krishna) An idol smuggler comes to a village to steal a Ancient \"Shiva\" idol worth 600 crores.Who Is arriving at a village in Tanjore with the ulterior motive of smu...</td>\n",
       "      <td>4.9</td>\n",
       "      <td>idol smuggler come village steal shiva idol worth crore story begin international criminal vamsi krishna idol smuggler come village steal ancient shiva idol worth crore arrive village tanjore ulterior motive smuggle ancient maragatha lingam idol marundeeswarar temple enter temple pretext journal...</td>\n",
       "    </tr>\n",
       "    <tr>\n",
       "      <th>345</th>\n",
       "      <td>2016</td>\n",
       "      <td>Maaveeran Kittu</td>\n",
       "      <td>Tamil</td>\n",
       "      <td>Suseenthiran</td>\n",
       "      <td>Vishnu Vishal, Sri Divya, Parthiban</td>\n",
       "      <td>drama</td>\n",
       "      <td>Set in the year 1987, the movie depicts the life of Krishnakumar alias Kittu (Vishnu), a Dalit youth whose main ambition is to become a collector. He is influenced by the ideas of Chinnarasu (R. Parthiepan), a local Dalit leader who had also sponsored his education. Chinnarasu and Kittu try to f...</td>\n",
       "      <td>4.8</td>\n",
       "      <td>set year movie depict life krishnakumar alias kittu vishnu dalit youth main ambition collector influence idea chinnarasu r. parthiepan local dalit leader sponsor education chinnarasu kittu try fight rampant caste discrimination mete upper caste people unable police court bias upper caste day kit...</td>\n",
       "    </tr>\n",
       "    <tr>\n",
       "      <th>214</th>\n",
       "      <td>2015</td>\n",
       "      <td>Dharani</td>\n",
       "      <td>Tamil</td>\n",
       "      <td>Guhan Sambantham</td>\n",
       "      <td>Aari, Elango Kumaravel, Ajay Krishna, Sandra Amy, Varunika</td>\n",
       "      <td>action</td>\n",
       "      <td>The plot is set in a rural backdrop where three middle class characters running a hotel come across three different circumstances facing three important life decision that is going to change their lives forever. The film charts the path taken by them to achieve their goal and details how they tr...</td>\n",
       "      <td>5.6</td>\n",
       "      <td>plot set rural backdrop middle class character run hotel come different circumstance face important life decision go change life forever film chart path take achieve goal detail traverse nowhere.[3</td>\n",
       "    </tr>\n",
       "  </tbody>\n",
       "</table>\n",
       "</div>"
      ],
      "text/plain": [
       "     Release Year                 Title Language          Director  \\\n",
       "294          2016               Sawaari    Tamil  Guhan Senniappan   \n",
       "163          2014               Athithi    Tamil         Bharathan   \n",
       "402          2017  Kalavu Thozhirchalai    Tamil  T. Krishna Shamy   \n",
       "345          2016       Maaveeran Kittu    Tamil      Suseenthiran   \n",
       "214          2015               Dharani    Tamil  Guhan Sambantham   \n",
       "\n",
       "                                                           Cast     Genre  \\\n",
       "294         Benito Franklin, Mathivanan Rajendran, Sanam Shetty  thriller   \n",
       "163                                  Nandha, Ananya, Nikesh Ram  thriller   \n",
       "402                    Kathir, Kushi, Vamsi Krishna, Kalanjiyam     drama   \n",
       "345                         Vishnu Vishal, Sri Divya, Parthiban     drama   \n",
       "214  Aari, Elango Kumaravel, Ajay Krishna, Sandra Amy, Varunika    action   \n",
       "\n",
       "                                                                                                                                                                                                                                                                                                            Plot  \\\n",
       "294  The film starts with a murder mystery. The main plot deals with how an Assistant Commissioner of Police is in the pursuit of finding the psycho killer. There is a sub plot of the film that talks about a harmless driver who aims to deliver a car on time from Chennai to Nellore but ends up getting...   \n",
       "163  Madhiazhagan (Nandha) is a highly successful project manager at a leading property promoters firm. He's happily wedded to Vasugi (Ananya) and has a five-year-old daughter Pavi. Posh house, heftily paying job, highly appreciative and supportive boss, and a happy family - Madhi's life is a far fet...   \n",
       "402  An idol smuggler comes to a village to steal a Shiva idol worth 600 crores. The story begins with an international criminal (Vamsi Krishna) An idol smuggler comes to a village to steal a Ancient \"Shiva\" idol worth 600 crores.Who Is arriving at a village in Tanjore with the ulterior motive of smu...   \n",
       "345  Set in the year 1987, the movie depicts the life of Krishnakumar alias Kittu (Vishnu), a Dalit youth whose main ambition is to become a collector. He is influenced by the ideas of Chinnarasu (R. Parthiepan), a local Dalit leader who had also sponsored his education. Chinnarasu and Kittu try to f...   \n",
       "214  The plot is set in a rural backdrop where three middle class characters running a hotel come across three different circumstances facing three important life decision that is going to change their lives forever. The film charts the path taken by them to achieve their goal and details how they tr...   \n",
       "\n",
       "     Rating  \\\n",
       "294     4.8   \n",
       "163     5.6   \n",
       "402     4.9   \n",
       "345     4.8   \n",
       "214     5.6   \n",
       "\n",
       "                                                                                                                                                                                                                                                                                                      Clean_plot  \n",
       "294  film start murder mystery main plot deal assistant commissioner police pursuit find psycho killer sub plot film talk harmless driver aim deliver car time chennai nellore end get tangle \\r\\n sawaari road psycho thriller movie see 1950 hollywood kollywood try rajat mukherjee rgv stable try hand ro...  \n",
       "163  madhiazhagan nandha highly successful project manager lead property promoter firm happily wed vasugi ananya year old daughter pavi posh house heftily pay job highly appreciative supportive boss happy family madhi life far fetched dream people era change day man request drop en route madhi vasu s...  \n",
       "402  idol smuggler come village steal shiva idol worth crore story begin international criminal vamsi krishna idol smuggler come village steal ancient shiva idol worth crore arrive village tanjore ulterior motive smuggle ancient maragatha lingam idol marundeeswarar temple enter temple pretext journal...  \n",
       "345  set year movie depict life krishnakumar alias kittu vishnu dalit youth main ambition collector influence idea chinnarasu r. parthiepan local dalit leader sponsor education chinnarasu kittu try fight rampant caste discrimination mete upper caste people unable police court bias upper caste day kit...  \n",
       "214                                                                                                        plot set rural backdrop middle class character run hotel come different circumstance face important life decision go change life forever film chart path take achieve goal detail traverse nowhere.[3  "
      ]
     },
     "execution_count": 16,
     "metadata": {},
     "output_type": "execute_result"
    }
   ],
   "source": [
    "df['Clean_plot'] = df['Plot'].apply(lambda x: normalize(x))\n",
    "df.sample(5)"
   ]
  },
  {
   "cell_type": "code",
   "execution_count": 17,
   "metadata": {},
   "outputs": [],
   "source": [
    "def freq_words(x, terms = 30): \n",
    "  all_words = str(x).split() \n",
    "  fdist = nltk.FreqDist(all_words) \n",
    "  words_df = pd.DataFrame({'word':list(fdist.keys()), 'count':list(fdist.values())}) \n",
    "  \n",
    "  d = words_df.nlargest(columns=\"count\", n = terms) \n",
    "  \n",
    "  # visualize words and frequencies\n",
    "  plt.figure(figsize=(12,15)) \n",
    "  ax = sns.barplot(data=d, x= \"count\", y = \"word\") \n",
    "  ax.set(ylabel = 'Word') \n",
    "  plt.show()"
   ]
  },
  {
   "cell_type": "code",
   "execution_count": 18,
   "metadata": {},
   "outputs": [
    {
     "data": {
      "image/png": "[encoded data removed]",
      "text/plain": [
       "<Figure size 864x1080 with 1 Axes>"
      ]
     },
     "metadata": {
      "needs_background": "light"
     },
     "output_type": "display_data"
    }
   ],
   "source": [
    "# print 50 most frequent words \n",
    "freq_words(df['Clean_plot'], 50)"
   ]
  },
  {
   "cell_type": "code",
   "execution_count": 19,
   "metadata": {},
   "outputs": [
    {
     "data": {
      "text/html": [
       "<div>\n",
       "<style scoped>\n",
       "    .dataframe tbody tr th:only-of-type {\n",
       "        vertical-align: middle;\n",
       "    }\n",
       "\n",
       "    .dataframe tbody tr th {\n",
       "        vertical-align: top;\n",
       "    }\n",
       "\n",
       "    .dataframe thead th {\n",
       "        text-align: right;\n",
       "    }\n",
       "</style>\n",
       "<table border=\"1\" class=\"dataframe\">\n",
       "  <thead>\n",
       "    <tr style=\"text-align: right;\">\n",
       "      <th></th>\n",
       "      <th>Release Year</th>\n",
       "      <th>Title</th>\n",
       "      <th>Language</th>\n",
       "      <th>Director</th>\n",
       "      <th>Cast</th>\n",
       "      <th>Genre</th>\n",
       "      <th>Plot</th>\n",
       "      <th>Rating</th>\n",
       "      <th>Clean_plot</th>\n",
       "    </tr>\n",
       "  </thead>\n",
       "  <tbody>\n",
       "    <tr>\n",
       "      <th>258</th>\n",
       "      <td>2015</td>\n",
       "      <td>Orange Mittai</td>\n",
       "      <td>Tamil</td>\n",
       "      <td>Biju Viswanath</td>\n",
       "      <td>Vijay Sethupathi, Ramesh Thilak, Aashritha</td>\n",
       "      <td>7</td>\n",
       "      <td>Satya (Ramesh Thilak) works as a paramedic in an ambulance emergency service. On the same day of his father's death anniversary, Sathya receives a call to pick up an old man who claims to be critically ill. Sathya, along with ambulance driver, rushes to the old man's house in an ambulance and he...</td>\n",
       "      <td>5.5</td>\n",
       "      <td>satya ramesh thilak work paramedic ambulance emergency service day father death anniversary sathya receive pick old man claim critically ill sathya ambulance driver rush old man house ambulance help kailasam vijay sethupathi board vehicle process learn old man fight life claim early heart patien...</td>\n",
       "    </tr>\n",
       "    <tr>\n",
       "      <th>69</th>\n",
       "      <td>2012</td>\n",
       "      <td>Thuppakki</td>\n",
       "      <td>Tamil</td>\n",
       "      <td>A. R. Murugadoss</td>\n",
       "      <td>Vijay, Kajal Aggarwal, Vidyut Jamwal, Jayaram</td>\n",
       "      <td>0</td>\n",
       "      <td>Jagadish, a captain in the Indian Army, returns to Mumbai from Kashmir. On his arrival, his parents and younger sisters force him to see Nisha, who they choose for him to be married to. At the bride-viewing ceremony, Jagadish makes up excuses to avoid marrying her, which includes commenting abou...</td>\n",
       "      <td>7.9</td>\n",
       "      <td>jagadish captain indian army return mumbai kashmir arrival parent young sister force nisha choose married bride view ceremony jagadish make excuse avoid marry include comment old fashioned contrary nisha college level boxer completely modern outlook jagadish realise propose initial refusal recip...</td>\n",
       "    </tr>\n",
       "    <tr>\n",
       "      <th>308</th>\n",
       "      <td>2016</td>\n",
       "      <td>Idhu Namma Aalu</td>\n",
       "      <td>Tamil</td>\n",
       "      <td>Pandiraj</td>\n",
       "      <td>Silambarasan, Nayanthara, Andrea Jeremiah</td>\n",
       "      <td>22</td>\n",
       "      <td>Shiva (Silambarasan) is an IT engineer with Vaasu (Soori) as his driver and his colleague. He visits Myla (Nayanthara) for a marriage proposal and instantly likes her. Myla wishes to speak to him privately and asks him about Priya (Andrea Jeremiah), his ex-girlfriend. Shiva accepts his old love ...</td>\n",
       "      <td>6.6</td>\n",
       "      <td>shiva silambarasan engineer vaasu soori driver colleague visit myla nayanthara marriage proposal instantly like myla wish speak privately ask priya andrea jeremiah ex girlfriend shiva accept old love leave house think marriage will happen myla accept marriage proposal later start speak phone shi...</td>\n",
       "    </tr>\n",
       "    <tr>\n",
       "      <th>54</th>\n",
       "      <td>2012</td>\n",
       "      <td>Attakathi</td>\n",
       "      <td>Tamil</td>\n",
       "      <td>Pa. Ranjit</td>\n",
       "      <td>Dinesh, Nandita, Iyshwarya Rajesh</td>\n",
       "      <td>22</td>\n",
       "      <td>Dinakaran (Dinesh) referred as Atta among his friends is a regular semi-urban teenager growing up in a small village in the outskirts of Chennai. He did well in his school exams, but failed his English paper. Rather than studying for the second attempt, he wastes time looking for a girlfriend si...</td>\n",
       "      <td>5.5</td>\n",
       "      <td>dinakaran dinesh refer atta friend regular semi urban teenager grow small village outskirt chennai school exam fail english paper study second attempt waste time look girlfriend pact good friend fall love marry \\r\\n dinakaran fall girl meet bus stop name poornima nandita appear like smile accept...</td>\n",
       "    </tr>\n",
       "    <tr>\n",
       "      <th>306</th>\n",
       "      <td>2016</td>\n",
       "      <td>Pencil</td>\n",
       "      <td>Tamil</td>\n",
       "      <td>Mani Nagaraj</td>\n",
       "      <td>G. V. Prakash Kumar, Sri Divya, Shariq Hassan</td>\n",
       "      <td>29</td>\n",
       "      <td>Shiva (G. V. Prakash Kumar) is the best student at his school. His rival, Nithin (Shariq Hassan), the son of a leading film star and a spoiled brat, takes any and every opportunity to knock him down both verbally and physically, and the two are known enemies amongst the other students. One day, ...</td>\n",
       "      <td>5.4</td>\n",
       "      <td>shiva g. v. prakash kumar good student school rival nithin shariq hassan son lead film star spoiled brat take opportunity knock verbally physically know enemy student day nithin burn shiva thesis shiva find assault nithin school school management intervene later shiva return class fight nithin f...</td>\n",
       "    </tr>\n",
       "  </tbody>\n",
       "</table>\n",
       "</div>"
      ],
      "text/plain": [
       "     Release Year            Title Language          Director  \\\n",
       "258          2015    Orange Mittai    Tamil    Biju Viswanath   \n",
       "69           2012        Thuppakki    Tamil  A. R. Murugadoss   \n",
       "308          2016  Idhu Namma Aalu    Tamil          Pandiraj   \n",
       "54           2012        Attakathi    Tamil        Pa. Ranjit   \n",
       "306          2016           Pencil    Tamil      Mani Nagaraj   \n",
       "\n",
       "                                              Cast  Genre  \\\n",
       "258     Vijay Sethupathi, Ramesh Thilak, Aashritha      7   \n",
       "69   Vijay, Kajal Aggarwal, Vidyut Jamwal, Jayaram      0   \n",
       "308      Silambarasan, Nayanthara, Andrea Jeremiah     22   \n",
       "54               Dinesh, Nandita, Iyshwarya Rajesh     22   \n",
       "306  G. V. Prakash Kumar, Sri Divya, Shariq Hassan     29   \n",
       "\n",
       "                                                                                                                                                                                                                                                                                                            Plot  \\\n",
       "258  Satya (Ramesh Thilak) works as a paramedic in an ambulance emergency service. On the same day of his father's death anniversary, Sathya receives a call to pick up an old man who claims to be critically ill. Sathya, along with ambulance driver, rushes to the old man's house in an ambulance and he...   \n",
       "69   Jagadish, a captain in the Indian Army, returns to Mumbai from Kashmir. On his arrival, his parents and younger sisters force him to see Nisha, who they choose for him to be married to. At the bride-viewing ceremony, Jagadish makes up excuses to avoid marrying her, which includes commenting abou...   \n",
       "308  Shiva (Silambarasan) is an IT engineer with Vaasu (Soori) as his driver and his colleague. He visits Myla (Nayanthara) for a marriage proposal and instantly likes her. Myla wishes to speak to him privately and asks him about Priya (Andrea Jeremiah), his ex-girlfriend. Shiva accepts his old love ...   \n",
       "54   Dinakaran (Dinesh) referred as Atta among his friends is a regular semi-urban teenager growing up in a small village in the outskirts of Chennai. He did well in his school exams, but failed his English paper. Rather than studying for the second attempt, he wastes time looking for a girlfriend si...   \n",
       "306  Shiva (G. V. Prakash Kumar) is the best student at his school. His rival, Nithin (Shariq Hassan), the son of a leading film star and a spoiled brat, takes any and every opportunity to knock him down both verbally and physically, and the two are known enemies amongst the other students. One day, ...   \n",
       "\n",
       "     Rating  \\\n",
       "258     5.5   \n",
       "69      7.9   \n",
       "308     6.6   \n",
       "54      5.5   \n",
       "306     5.4   \n",
       "\n",
       "                                                                                                                                                                                                                                                                                                      Clean_plot  \n",
       "258  satya ramesh thilak work paramedic ambulance emergency service day father death anniversary sathya receive pick old man claim critically ill sathya ambulance driver rush old man house ambulance help kailasam vijay sethupathi board vehicle process learn old man fight life claim early heart patien...  \n",
       "69   jagadish captain indian army return mumbai kashmir arrival parent young sister force nisha choose married bride view ceremony jagadish make excuse avoid marry include comment old fashioned contrary nisha college level boxer completely modern outlook jagadish realise propose initial refusal recip...  \n",
       "308  shiva silambarasan engineer vaasu soori driver colleague visit myla nayanthara marriage proposal instantly like myla wish speak privately ask priya andrea jeremiah ex girlfriend shiva accept old love leave house think marriage will happen myla accept marriage proposal later start speak phone shi...  \n",
       "54   dinakaran dinesh refer atta friend regular semi urban teenager grow small village outskirt chennai school exam fail english paper study second attempt waste time look girlfriend pact good friend fall love marry \\r\\n dinakaran fall girl meet bus stop name poornima nandita appear like smile accept...  \n",
       "306  shiva g. v. prakash kumar good student school rival nithin shariq hassan son lead film star spoiled brat take opportunity knock verbally physically know enemy student day nithin burn shiva thesis shiva find assault nithin school school management intervene later shiva return class fight nithin f...  "
      ]
     },
     "execution_count": 19,
     "metadata": {},
     "output_type": "execute_result"
    }
   ],
   "source": [
    "le = LabelEncoder()\n",
    "df[\"Genre\"] = le.fit_transform(df[\"Genre\"])\n",
    "df.sample(5)"
   ]
  },
  {
   "cell_type": "code",
   "execution_count": 20,
   "metadata": {},
   "outputs": [],
   "source": [
    "tfidf_vectorizer = TfidfVectorizer()\n",
    "def feature_extraction(msg):\n",
    "    \n",
    "    mat = pd.DataFrame(tfidf_vectorizer.fit_transform(msg).toarray(),columns=tfidf_vectorizer.get_feature_names(),index=None)\n",
    "    return mat"
   ]
  },
  {
   "cell_type": "code",
   "execution_count": 21,
   "metadata": {},
   "outputs": [],
   "source": [
    "train_x,train_y, test_x,test_y = train_test_split(feature_extraction(df['Clean_plot']),df['Genre'], test_size=0.3)"
   ]
  },
  {
   "cell_type": "code",
   "execution_count": 22,
   "metadata": {},
   "outputs": [
    {
     "data": {
      "text/html": [
       "<div>\n",
       "<style scoped>\n",
       "    .dataframe tbody tr th:only-of-type {\n",
       "        vertical-align: middle;\n",
       "    }\n",
       "\n",
       "    .dataframe tbody tr th {\n",
       "        vertical-align: top;\n",
       "    }\n",
       "\n",
       "    .dataframe thead th {\n",
       "        text-align: right;\n",
       "    }\n",
       "</style>\n",
       "<table border=\"1\" class=\"dataframe\">\n",
       "  <thead>\n",
       "    <tr style=\"text-align: right;\">\n",
       "      <th></th>\n",
       "      <th>00</th>\n",
       "      <th>000</th>\n",
       "      <th>00pm</th>\n",
       "      <th>01</th>\n",
       "      <th>03</th>\n",
       "      <th>10</th>\n",
       "      <th>100</th>\n",
       "      <th>100th</th>\n",
       "      <th>107</th>\n",
       "      <th>10nth</th>\n",
       "      <th>...</th>\n",
       "      <th>zakir</th>\n",
       "      <th>zameen</th>\n",
       "      <th>zamindar</th>\n",
       "      <th>zaveri</th>\n",
       "      <th>zealand</th>\n",
       "      <th>zen</th>\n",
       "      <th>zero</th>\n",
       "      <th>zip</th>\n",
       "      <th>zonal</th>\n",
       "      <th>zoomed</th>\n",
       "    </tr>\n",
       "  </thead>\n",
       "  <tbody>\n",
       "    <tr>\n",
       "      <th>267</th>\n",
       "      <td>0.0</td>\n",
       "      <td>0.0</td>\n",
       "      <td>0.0</td>\n",
       "      <td>0.035485</td>\n",
       "      <td>0.0</td>\n",
       "      <td>0.0</td>\n",
       "      <td>0.0</td>\n",
       "      <td>0.0</td>\n",
       "      <td>0.0</td>\n",
       "      <td>0.0</td>\n",
       "      <td>...</td>\n",
       "      <td>0.0</td>\n",
       "      <td>0.0</td>\n",
       "      <td>0.0</td>\n",
       "      <td>0.0</td>\n",
       "      <td>0.0</td>\n",
       "      <td>0.0</td>\n",
       "      <td>0.0</td>\n",
       "      <td>0.0</td>\n",
       "      <td>0.0</td>\n",
       "      <td>0.0</td>\n",
       "    </tr>\n",
       "    <tr>\n",
       "      <th>159</th>\n",
       "      <td>0.0</td>\n",
       "      <td>0.0</td>\n",
       "      <td>0.0</td>\n",
       "      <td>0.000000</td>\n",
       "      <td>0.0</td>\n",
       "      <td>0.0</td>\n",
       "      <td>0.0</td>\n",
       "      <td>0.0</td>\n",
       "      <td>0.0</td>\n",
       "      <td>0.0</td>\n",
       "      <td>...</td>\n",
       "      <td>0.0</td>\n",
       "      <td>0.0</td>\n",
       "      <td>0.0</td>\n",
       "      <td>0.0</td>\n",
       "      <td>0.0</td>\n",
       "      <td>0.0</td>\n",
       "      <td>0.0</td>\n",
       "      <td>0.0</td>\n",
       "      <td>0.0</td>\n",
       "      <td>0.0</td>\n",
       "    </tr>\n",
       "    <tr>\n",
       "      <th>284</th>\n",
       "      <td>0.0</td>\n",
       "      <td>0.0</td>\n",
       "      <td>0.0</td>\n",
       "      <td>0.000000</td>\n",
       "      <td>0.0</td>\n",
       "      <td>0.0</td>\n",
       "      <td>0.0</td>\n",
       "      <td>0.0</td>\n",
       "      <td>0.0</td>\n",
       "      <td>0.0</td>\n",
       "      <td>...</td>\n",
       "      <td>0.0</td>\n",
       "      <td>0.0</td>\n",
       "      <td>0.0</td>\n",
       "      <td>0.0</td>\n",
       "      <td>0.0</td>\n",
       "      <td>0.0</td>\n",
       "      <td>0.0</td>\n",
       "      <td>0.0</td>\n",
       "      <td>0.0</td>\n",
       "      <td>0.0</td>\n",
       "    </tr>\n",
       "    <tr>\n",
       "      <th>31</th>\n",
       "      <td>0.0</td>\n",
       "      <td>0.0</td>\n",
       "      <td>0.0</td>\n",
       "      <td>0.000000</td>\n",
       "      <td>0.0</td>\n",
       "      <td>0.0</td>\n",
       "      <td>0.0</td>\n",
       "      <td>0.0</td>\n",
       "      <td>0.0</td>\n",
       "      <td>0.0</td>\n",
       "      <td>...</td>\n",
       "      <td>0.0</td>\n",
       "      <td>0.0</td>\n",
       "      <td>0.0</td>\n",
       "      <td>0.0</td>\n",
       "      <td>0.0</td>\n",
       "      <td>0.0</td>\n",
       "      <td>0.0</td>\n",
       "      <td>0.0</td>\n",
       "      <td>0.0</td>\n",
       "      <td>0.0</td>\n",
       "    </tr>\n",
       "    <tr>\n",
       "      <th>166</th>\n",
       "      <td>0.0</td>\n",
       "      <td>0.0</td>\n",
       "      <td>0.0</td>\n",
       "      <td>0.000000</td>\n",
       "      <td>0.0</td>\n",
       "      <td>0.0</td>\n",
       "      <td>0.0</td>\n",
       "      <td>0.0</td>\n",
       "      <td>0.0</td>\n",
       "      <td>0.0</td>\n",
       "      <td>...</td>\n",
       "      <td>0.0</td>\n",
       "      <td>0.0</td>\n",
       "      <td>0.0</td>\n",
       "      <td>0.0</td>\n",
       "      <td>0.0</td>\n",
       "      <td>0.0</td>\n",
       "      <td>0.0</td>\n",
       "      <td>0.0</td>\n",
       "      <td>0.0</td>\n",
       "      <td>0.0</td>\n",
       "    </tr>\n",
       "  </tbody>\n",
       "</table>\n",
       "<p>5 rows × 9344 columns</p>\n",
       "</div>"
      ],
      "text/plain": [
       "      00  000  00pm        01   03   10  100  100th  107  10nth  ...  zakir  \\\n",
       "267  0.0  0.0   0.0  0.035485  0.0  0.0  0.0    0.0  0.0    0.0  ...    0.0   \n",
       "159  0.0  0.0   0.0  0.000000  0.0  0.0  0.0    0.0  0.0    0.0  ...    0.0   \n",
       "284  0.0  0.0   0.0  0.000000  0.0  0.0  0.0    0.0  0.0    0.0  ...    0.0   \n",
       "31   0.0  0.0   0.0  0.000000  0.0  0.0  0.0    0.0  0.0    0.0  ...    0.0   \n",
       "166  0.0  0.0   0.0  0.000000  0.0  0.0  0.0    0.0  0.0    0.0  ...    0.0   \n",
       "\n",
       "     zameen  zamindar  zaveri  zealand  zen  zero  zip  zonal  zoomed  \n",
       "267     0.0       0.0     0.0      0.0  0.0   0.0  0.0    0.0     0.0  \n",
       "159     0.0       0.0     0.0      0.0  0.0   0.0  0.0    0.0     0.0  \n",
       "284     0.0       0.0     0.0      0.0  0.0   0.0  0.0    0.0     0.0  \n",
       "31      0.0       0.0     0.0      0.0  0.0   0.0  0.0    0.0     0.0  \n",
       "166     0.0       0.0     0.0      0.0  0.0   0.0  0.0    0.0     0.0  \n",
       "\n",
       "[5 rows x 9344 columns]"
      ]
     },
     "execution_count": 22,
     "metadata": {},
     "output_type": "execute_result"
    }
   ],
   "source": [
    "train_x.head()"
   ]
  },
  {
   "cell_type": "code",
   "execution_count": 23,
   "metadata": {},
   "outputs": [
    {
     "data": {
      "text/plain": [
       "275     0\n",
       "164     9\n",
       "293    22\n",
       "33     12\n",
       "171    22\n",
       "Name: Genre, dtype: int32"
      ]
     },
     "execution_count": 23,
     "metadata": {},
     "output_type": "execute_result"
    }
   ],
   "source": [
    "test_x.head()"
   ]
  },
  {
   "cell_type": "code",
   "execution_count": 24,
   "metadata": {},
   "outputs": [],
   "source": [
    "clfs = {\n",
    "    'mnb': MultinomialNB(),\n",
    "    'gnb': GaussianNB(),\n",
    "    'mlp1': MLPClassifier(),\n",
    "    'mlp2': MLPClassifier(hidden_layer_sizes=[100, 100]),\n",
    "    'ada': AdaBoostClassifier(),\n",
    "    'dtc': DecisionTreeClassifier(),\n",
    "    'rfc': RandomForestClassifier(),\n",
    "    'gbc': GradientBoostingClassifier(),\n",
    "    'lr': LogisticRegression()\n",
    "}"
   ]
  },
  {
   "cell_type": "code",
   "execution_count": 25,
   "metadata": {},
   "outputs": [
    {
     "name": "stdout",
     "output_type": "stream",
     "text": [
      "MultinomialNB() : 0.19672131147540983\n",
      "GaussianNB() : 0.18032786885245902\n"
     ]
    },
    {
     "name": "stderr",
     "output_type": "stream",
     "text": [
      "C:\\Users\\nithi\\anaconda3\\lib\\site-packages\\sklearn\\neural_network\\_multilayer_perceptron.py:582: ConvergenceWarning: Stochastic Optimizer: Maximum iterations (200) reached and the optimization hasn't converged yet.\n",
      "  warnings.warn(\n"
     ]
    },
    {
     "name": "stdout",
     "output_type": "stream",
     "text": [
      "MLPClassifier() : 0.2540983606557377\n",
      "MLPClassifier(hidden_layer_sizes=[100, 100]) : 0.29508196721311475\n",
      "AdaBoostClassifier() : 0.23770491803278687\n",
      "DecisionTreeClassifier() : 0.1885245901639344\n",
      "RandomForestClassifier() : 0.2786885245901639\n",
      "GradientBoostingClassifier() : 0.28688524590163933\n",
      "LogisticRegression() : 0.23770491803278687\n"
     ]
    }
   ],
   "source": [
    "f1_scores = dict()\n",
    "for clf_name in clfs:\n",
    "    clf = clfs[clf_name]\n",
    "    clf.fit(train_x, test_x)\n",
    "    y_pred = clf.predict(train_y)\n",
    "    f1_scores[clf_name] = accuracy_score(y_pred, test_y)\n",
    "    print(clf,\":\", f1_scores[clf_name])"
   ]
  },
  {
   "cell_type": "code",
   "execution_count": 26,
   "metadata": {},
   "outputs": [
    {
     "name": "stdout",
     "output_type": "stream",
     "text": [
      "[[15  0  1  0 11  4 16  0  2  1  0  1  1  9  1  2  1  6]\n",
      " [ 1  0  0  0  0  0  0  0  0  0  0  0  0  0  0  0  0  0]\n",
      " [ 0  0  0  0  0  0  0  0  0  0  0  0  0  0  0  0  0  0]\n",
      " [ 0  0  0  0  0  0  0  0  0  0  0  0  0  0  0  0  0  0]\n",
      " [ 2  0  0  0  5  0  0  0  1  0  0  0  0  4  1  1  0  0]\n",
      " [ 0  0  0  0  0  0  0  0  0  0  0  0  0  0  0  0  0  0]\n",
      " [ 0  0  0  0  1  0  1  0  0  0  0  0  0  1  0  0  0  0]\n",
      " [ 0  0  0  0  0  0  0  0  0  0  0  0  0  0  0  0  0  0]\n",
      " [ 0  0  0  0  0  0  0  1  0  0  0  0  0  0  0  0  0  0]\n",
      " [ 1  0  0  0  0  0  0  0  1  7  0  0  0  0  0  0  0  0]\n",
      " [ 0  0  0  0  0  0  0  0  0  0  0  0  0  1  0  0  0  0]\n",
      " [ 0  0  0  0  0  0  0  0  0  0  0  0  0  1  0  0  0  0]\n",
      " [ 0  0  0  0  0  0  0  0  0  0  0  0  0  0  0  0  0  0]\n",
      " [ 5  0  0  1  2  0  3  0  0  1  1  0  0  4  0  1  0  3]\n",
      " [ 0  0  0  0  0  0  0  0  0  0  0  0  0  0  0  0  0  0]\n",
      " [ 0  0  0  0  0  0  0  0  0  0  0  0  0  0  0  0  0  0]\n",
      " [ 0  0  0  0  0  0  0  0  0  0  0  0  0  0  0  0  0  0]\n",
      " [ 0  0  0  0  0  0  0  0  0  0  0  0  0  0  0  0  0  0]]\n"
     ]
    },
    {
     "name": "stderr",
     "output_type": "stream",
     "text": [
      "C:\\Users\\nithi\\anaconda3\\lib\\site-packages\\sklearn\\neural_network\\_multilayer_perceptron.py:471: ConvergenceWarning: lbfgs failed to converge (status=1):\n",
      "STOP: TOTAL NO. of ITERATIONS REACHED LIMIT.\n",
      "\n",
      "Increase the number of iterations (max_iter) or scale the data as shown in:\n",
      "    https://scikit-learn.org/stable/modules/preprocessing.html\n",
      "  self.n_iter_ = _check_optimize_result(\"lbfgs\", opt_res, self.max_iter)\n"
     ]
    }
   ],
   "source": [
    "clf = MLPClassifier(solver = 'lbfgs', alpha=0.4,hidden_layer_sizes=[100, 100])\n",
    "clf.fit(train_x, test_x)\n",
    "y_pred = clf.predict(train_y)\n",
    "print(confusion_matrix(y_pred, test_y))"
   ]
  },
  {
   "cell_type": "code",
   "execution_count": 27,
   "metadata": {},
   "outputs": [
    {
     "data": {
      "text/plain": [
       "<matplotlib.axes._subplots.AxesSubplot at 0x1dcf9239670>"
      ]
     },
     "execution_count": 27,
     "metadata": {},
     "output_type": "execute_result"
    },
    {
     "data": {
      "image/png": "[encoded data removed]",
      "text/plain": [
       "<Figure size 432x288 with 1 Axes>"
      ]
     },
     "metadata": {
      "needs_background": "light"
     },
     "output_type": "display_data"
    }
   ],
   "source": [
    "sns.regplot(x=test_y,y=y_pred,marker=\"*\")"
   ]
  },
  {
   "cell_type": "code",
   "execution_count": null,
   "metadata": {},
   "outputs": [],
   "source": []
  }
 ],
 "metadata": {
  "kernelspec": {
   "display_name": "Python 3",
   "language": "python",
   "name": "python3"
  },
  "language_info": {
   "codemirror_mode": {
    "name": "ipython",
    "version": 3
   },
   "file_extension": ".py",
   "mimetype": "text/x-python",
   "name": "python",
   "nbconvert_exporter": "python",
   "pygments_lexer": "ipython3",
   "version": "3.8.3"
  }
 },
 "nbformat": 4,
 "nbformat_minor": 4
}
