{
 "cells": [
  {
   "cell_type": "code",
   "execution_count": 1,
   "metadata": {},
   "outputs": [],
   "source": [
    "import pandas as pd\n",
    "import numpy as np\n",
    "import json\n",
    "import nltk\n",
    "import re\n",
    "import csv\n",
    "import matplotlib.pyplot as plt \n",
    "import seaborn as sns\n",
    "from tqdm import tqdm\n",
    "from collections import Counter\n",
    "from sklearn.feature_extraction.text import TfidfVectorizer\n",
    "from sklearn.model_selection import train_test_split\n",
    "\n",
    "%matplotlib inline\n",
    "pd.set_option('display.max_colwidth', 300)"
   ]
  },
  {
   "cell_type": "code",
   "execution_count": 2,
   "metadata": {},
   "outputs": [
    {
     "data": {
      "text/html": [
       "<div>\n",
       "<style scoped>\n",
       "    .dataframe tbody tr th:only-of-type {\n",
       "        vertical-align: middle;\n",
       "    }\n",
       "\n",
       "    .dataframe tbody tr th {\n",
       "        vertical-align: top;\n",
       "    }\n",
       "\n",
       "    .dataframe thead th {\n",
       "        text-align: right;\n",
       "    }\n",
       "</style>\n",
       "<table border=\"1\" class=\"dataframe\">\n",
       "  <thead>\n",
       "    <tr style=\"text-align: right;\">\n",
       "      <th></th>\n",
       "      <th>Release Year</th>\n",
       "      <th>Title</th>\n",
       "      <th>Language</th>\n",
       "      <th>Director</th>\n",
       "      <th>Cast</th>\n",
       "      <th>Genre</th>\n",
       "      <th>Plot</th>\n",
       "      <th>Rating</th>\n",
       "    </tr>\n",
       "  </thead>\n",
       "  <tbody>\n",
       "    <tr>\n",
       "      <th>406</th>\n",
       "      <td>2017</td>\n",
       "      <td>Aval</td>\n",
       "      <td>Tamil</td>\n",
       "      <td>Milind Rau</td>\n",
       "      <td>Siddharth, Andrea Jeremiah, Anisha Victor</td>\n",
       "      <td>horror</td>\n",
       "      <td>The film opens with an ancient Chinese mother and daughter. They seem to spend happy moments with each other with the mother being pregnant. The movie then moves to the present where a happy couple Krishnakanth aka Krish (Siddharth) and Lakshmi (Andrea Jeremiah) make love, bringing in their memo...</td>\n",
       "      <td>7.9</td>\n",
       "    </tr>\n",
       "    <tr>\n",
       "      <th>270</th>\n",
       "      <td>2015</td>\n",
       "      <td>Thoongaa Vanam</td>\n",
       "      <td>Tamil</td>\n",
       "      <td>Rajesh M. Selva</td>\n",
       "      <td>Kamal Haasan, Trisha, Prakash Raj, Kishore, Sampath Raj</td>\n",
       "      <td>crime thriller</td>\n",
       "      <td>The film begins with Diwakar (Kamal Haasan), an Indian Revenue Service officer in the Narcotics Control Bureau, and his deputy Mani (Yugi Sethu), busting a narcotics scam. In retribution, Vittal Rao (Prakash Raj), a drug smuggler who had masterminded the scam, kidnaps Diwakar's son Vasu (Aman Ab...</td>\n",
       "      <td>7.9</td>\n",
       "    </tr>\n",
       "    <tr>\n",
       "      <th>61</th>\n",
       "      <td>2012</td>\n",
       "      <td>Thaandavam</td>\n",
       "      <td>Tamil</td>\n",
       "      <td>A. L. Vijay</td>\n",
       "      <td>Vikram, Anushka Shetty, Amy Jackson, Lakshmi Rai</td>\n",
       "      <td>action</td>\n",
       "      <td>On 1 January 2011, a sudden bomb blast occurs in London, killing several people. The scene shifts to the same place after exactly a year, where a blind man Kenny Thomas (Vikram) lays flowers on the memorial and mourns someone's death during the bomb blast. He is then given some secret details by...</td>\n",
       "      <td>5.6</td>\n",
       "    </tr>\n",
       "    <tr>\n",
       "      <th>29</th>\n",
       "      <td>2012</td>\n",
       "      <td>Kollaikaran</td>\n",
       "      <td>Tamil</td>\n",
       "      <td>Tamil Selvan</td>\n",
       "      <td>Vidharth, Sanchita Shetty</td>\n",
       "      <td>drama</td>\n",
       "      <td>It is a story of a guy named Kuruvi Vidharth who does small crimes. He falls in love with a girl named Krishnaveni Sanchita Shetty who on finding him to be a criminal rejects him.\\r\\nKurivi's elder sister got married into Krishnaveni's family member and they become close again.\\r\\nAs fate would ...</td>\n",
       "      <td>7.3</td>\n",
       "    </tr>\n",
       "    <tr>\n",
       "      <th>86</th>\n",
       "      <td>2013</td>\n",
       "      <td>Kan Pesum Varthaigal</td>\n",
       "      <td>Tamil</td>\n",
       "      <td>R. Balaji</td>\n",
       "      <td>Mirchi Senthil, Iniya</td>\n",
       "      <td>romance</td>\n",
       "      <td>Mahesh Mirchi Senthil is a young unemployed man living in Thiruvarur who enjoys hanging out with his friends. His father (Livingston) is unhappy with his son's irresponsible lifestyle and attempts suicide. Mahesh then begins to search for a job, and with the help of his friend, Appu Kutty (Murug...</td>\n",
       "      <td>NaN</td>\n",
       "    </tr>\n",
       "  </tbody>\n",
       "</table>\n",
       "</div>"
      ],
      "text/plain": [
       "     Release Year                 Title Language         Director  \\\n",
       "406          2017                  Aval    Tamil       Milind Rau   \n",
       "270          2015        Thoongaa Vanam    Tamil  Rajesh M. Selva   \n",
       "61           2012            Thaandavam    Tamil      A. L. Vijay   \n",
       "29           2012           Kollaikaran    Tamil     Tamil Selvan   \n",
       "86           2013  Kan Pesum Varthaigal    Tamil        R. Balaji   \n",
       "\n",
       "                                                        Cast           Genre  \\\n",
       "406                Siddharth, Andrea Jeremiah, Anisha Victor          horror   \n",
       "270  Kamal Haasan, Trisha, Prakash Raj, Kishore, Sampath Raj  crime thriller   \n",
       "61          Vikram, Anushka Shetty, Amy Jackson, Lakshmi Rai          action   \n",
       "29                                 Vidharth, Sanchita Shetty           drama   \n",
       "86                                     Mirchi Senthil, Iniya         romance   \n",
       "\n",
       "                                                                                                                                                                                                                                                                                                            Plot  \\\n",
       "406  The film opens with an ancient Chinese mother and daughter. They seem to spend happy moments with each other with the mother being pregnant. The movie then moves to the present where a happy couple Krishnakanth aka Krish (Siddharth) and Lakshmi (Andrea Jeremiah) make love, bringing in their memo...   \n",
       "270  The film begins with Diwakar (Kamal Haasan), an Indian Revenue Service officer in the Narcotics Control Bureau, and his deputy Mani (Yugi Sethu), busting a narcotics scam. In retribution, Vittal Rao (Prakash Raj), a drug smuggler who had masterminded the scam, kidnaps Diwakar's son Vasu (Aman Ab...   \n",
       "61   On 1 January 2011, a sudden bomb blast occurs in London, killing several people. The scene shifts to the same place after exactly a year, where a blind man Kenny Thomas (Vikram) lays flowers on the memorial and mourns someone's death during the bomb blast. He is then given some secret details by...   \n",
       "29   It is a story of a guy named Kuruvi Vidharth who does small crimes. He falls in love with a girl named Krishnaveni Sanchita Shetty who on finding him to be a criminal rejects him.\\r\\nKurivi's elder sister got married into Krishnaveni's family member and they become close again.\\r\\nAs fate would ...   \n",
       "86   Mahesh Mirchi Senthil is a young unemployed man living in Thiruvarur who enjoys hanging out with his friends. His father (Livingston) is unhappy with his son's irresponsible lifestyle and attempts suicide. Mahesh then begins to search for a job, and with the help of his friend, Appu Kutty (Murug...   \n",
       "\n",
       "     Rating  \n",
       "406     7.9  \n",
       "270     7.9  \n",
       "61      5.6  \n",
       "29      7.3  \n",
       "86      NaN  "
      ]
     },
     "execution_count": 2,
     "metadata": {},
     "output_type": "execute_result"
    }
   ],
   "source": [
    "df = pd.read_csv(r'C:\\Users\\nithi\\Downloads\\BigData Boss Dataset.csv')\n",
    "df.sample(5)"
   ]
  },
  {
   "cell_type": "code",
   "execution_count": 3,
   "metadata": {},
   "outputs": [
    {
     "data": {
      "text/plain": [
       "80"
      ]
     },
     "execution_count": 3,
     "metadata": {},
     "output_type": "execute_result"
    }
   ],
   "source": [
    "len(df.Genre.unique())"
   ]
  },
  {
   "cell_type": "code",
   "execution_count": 4,
   "metadata": {},
   "outputs": [
    {
     "data": {
      "text/plain": [
       "(416, 8)"
      ]
     },
     "execution_count": 4,
     "metadata": {},
     "output_type": "execute_result"
    }
   ],
   "source": [
    "df.shape"
   ]
  },
  {
   "cell_type": "code",
   "execution_count": 5,
   "metadata": {},
   "outputs": [
    {
     "data": {
      "text/html": [
       "<div>\n",
       "<style scoped>\n",
       "    .dataframe tbody tr th:only-of-type {\n",
       "        vertical-align: middle;\n",
       "    }\n",
       "\n",
       "    .dataframe tbody tr th {\n",
       "        vertical-align: top;\n",
       "    }\n",
       "\n",
       "    .dataframe thead th {\n",
       "        text-align: right;\n",
       "    }\n",
       "</style>\n",
       "<table border=\"1\" class=\"dataframe\">\n",
       "  <thead>\n",
       "    <tr style=\"text-align: right;\">\n",
       "      <th></th>\n",
       "      <th>Release Year</th>\n",
       "      <th>Title</th>\n",
       "      <th>Language</th>\n",
       "      <th>Director</th>\n",
       "      <th>Cast</th>\n",
       "      <th>Genre</th>\n",
       "      <th>Plot</th>\n",
       "      <th>Rating</th>\n",
       "    </tr>\n",
       "  </thead>\n",
       "  <tbody>\n",
       "    <tr>\n",
       "      <th>30</th>\n",
       "      <td>2012</td>\n",
       "      <td>Vettai</td>\n",
       "      <td>Tamil</td>\n",
       "      <td>N. Linguswamy</td>\n",
       "      <td>Arya, R. Madhavan, Sameera Reddy, Amala Paul</td>\n",
       "      <td>action</td>\n",
       "      <td>Thirumurthy and Gurumurthy are two brothers in Thoothukudi, with Thirumurthy being the elder. He is very sensitive to violence, in contrast to his younger brother who is brave and rogue. Whenever Thirumurthy is beaten by anyone, he has Gurumurthy finish them. However, Gurumurthy is frequently be...</td>\n",
       "      <td>6.2</td>\n",
       "    </tr>\n",
       "    <tr>\n",
       "      <th>322</th>\n",
       "      <td>2016</td>\n",
       "      <td>Joker</td>\n",
       "      <td>Tamil</td>\n",
       "      <td>Raju Murugan</td>\n",
       "      <td>Guru Somasundaram, Ramya Pandian, Gayathri Krishna</td>\n",
       "      <td>social</td>\n",
       "      <td>Mannar Mannan is a villager who declares himself as the President of India. He leads many protests against various injustices happening around his village. Most of the time he is seen as a joker. He and his small team of like-minded individuals sue on behalf of villagers. One of his cases is aga...</td>\n",
       "      <td>3.7</td>\n",
       "    </tr>\n",
       "    <tr>\n",
       "      <th>180</th>\n",
       "      <td>2014</td>\n",
       "      <td>Amara Kaaviyam</td>\n",
       "      <td>Tamil</td>\n",
       "      <td>Jeeva Shankar</td>\n",
       "      <td>Sathya, Miya</td>\n",
       "      <td>romantic</td>\n",
       "      <td>The movie begins with Jeeva (Sathya) being taken to court, where he recalls his past. In 1989, at the beginning of his 12th standard, his friend Balaji (Ananth Nag) falls in love with Kartika (Miya) their classmate. Jeeva talks to Kartika on Balaji’s behalf but he is shocked to know that she is ...</td>\n",
       "      <td>5.6</td>\n",
       "    </tr>\n",
       "    <tr>\n",
       "      <th>85</th>\n",
       "      <td>2013</td>\n",
       "      <td>Paradesi</td>\n",
       "      <td>Tamil</td>\n",
       "      <td>Bala</td>\n",
       "      <td>Adharvaa, Vedhicka, Dhansika</td>\n",
       "      <td>drama</td>\n",
       "      <td>Rasa (Atharvaa) is a carefree young man living in a rural village in the Madras Presidency during the early days of the British Raj. Orphaned at a young age, he is brought up by his grandmother. Angamma (Vedhicka), a local girl falls for him and takes pleasure in bullying him. When she finally c...</td>\n",
       "      <td>4.7</td>\n",
       "    </tr>\n",
       "    <tr>\n",
       "      <th>400</th>\n",
       "      <td>2017</td>\n",
       "      <td>Magalir Mattum</td>\n",
       "      <td>Tamil</td>\n",
       "      <td>Bramma</td>\n",
       "      <td>Jyothika, Saranya, Urvashi, Bhanupriya</td>\n",
       "      <td>drama</td>\n",
       "      <td>Prabhavathi (Jyothika) is a feisty independent woman who makes documentaries. She lives with her two friends and later moves in with her future mother-in-law, Gomatha (Oorvasi). Prabha learns that Gomatha misses her old school friends, Subbu and Rani (Saranya Ponvanan and Banupriya), with whom g...</td>\n",
       "      <td>6.4</td>\n",
       "    </tr>\n",
       "  </tbody>\n",
       "</table>\n",
       "</div>"
      ],
      "text/plain": [
       "     Release Year           Title Language       Director  \\\n",
       "30           2012          Vettai    Tamil  N. Linguswamy   \n",
       "322          2016           Joker    Tamil   Raju Murugan   \n",
       "180          2014  Amara Kaaviyam    Tamil  Jeeva Shankar   \n",
       "85           2013        Paradesi    Tamil           Bala   \n",
       "400          2017  Magalir Mattum    Tamil         Bramma   \n",
       "\n",
       "                                                   Cast     Genre  \\\n",
       "30         Arya, R. Madhavan, Sameera Reddy, Amala Paul    action   \n",
       "322  Guru Somasundaram, Ramya Pandian, Gayathri Krishna    social   \n",
       "180                                        Sathya, Miya  romantic   \n",
       "85                         Adharvaa, Vedhicka, Dhansika     drama   \n",
       "400              Jyothika, Saranya, Urvashi, Bhanupriya     drama   \n",
       "\n",
       "                                                                                                                                                                                                                                                                                                            Plot  \\\n",
       "30   Thirumurthy and Gurumurthy are two brothers in Thoothukudi, with Thirumurthy being the elder. He is very sensitive to violence, in contrast to his younger brother who is brave and rogue. Whenever Thirumurthy is beaten by anyone, he has Gurumurthy finish them. However, Gurumurthy is frequently be...   \n",
       "322  Mannar Mannan is a villager who declares himself as the President of India. He leads many protests against various injustices happening around his village. Most of the time he is seen as a joker. He and his small team of like-minded individuals sue on behalf of villagers. One of his cases is aga...   \n",
       "180  The movie begins with Jeeva (Sathya) being taken to court, where he recalls his past. In 1989, at the beginning of his 12th standard, his friend Balaji (Ananth Nag) falls in love with Kartika (Miya) their classmate. Jeeva talks to Kartika on Balaji’s behalf but he is shocked to know that she is ...   \n",
       "85   Rasa (Atharvaa) is a carefree young man living in a rural village in the Madras Presidency during the early days of the British Raj. Orphaned at a young age, he is brought up by his grandmother. Angamma (Vedhicka), a local girl falls for him and takes pleasure in bullying him. When she finally c...   \n",
       "400  Prabhavathi (Jyothika) is a feisty independent woman who makes documentaries. She lives with her two friends and later moves in with her future mother-in-law, Gomatha (Oorvasi). Prabha learns that Gomatha misses her old school friends, Subbu and Rani (Saranya Ponvanan and Banupriya), with whom g...   \n",
       "\n",
       "     Rating  \n",
       "30      6.2  \n",
       "322     3.7  \n",
       "180     5.6  \n",
       "85      4.7  \n",
       "400     6.4  "
      ]
     },
     "execution_count": 5,
     "metadata": {},
     "output_type": "execute_result"
    }
   ],
   "source": [
    "df[\"Genre\"] = df[\"Genre\"].apply(lambda x: x.split()[0])\n",
    "df[\"Genre\"] = df[\"Genre\"].apply(lambda x: x.replace(r\"/\", \"\"))\n",
    "df[\"Genre\"] = df[\"Genre\"].apply(lambda x: x.replace(\"—\", \" \"))\n",
    "df[\"Genre\"] = df[\"Genre\"].apply(lambda x: x.replace(\"-\", \" \"))\n",
    "df[\"Genre\"] = df[\"Genre\"].apply(lambda x: x.split()[0])\n",
    "df[\"Genre\"] = df[\"Genre\"].apply(lambda x: x.replace(r\",\", \"\"))\n",
    "df[\"Genre\"] = df[\"Genre\"].apply(lambda x: x.replace(r\"romanctic\", \"romantic\"))\n",
    "df[\"Genre\"] = df[\"Genre\"].apply(lambda x: x.replace(r\"sci\", \"scifi\"))\n",
    "df[\"Genre\"] = df[\"Genre\"].apply(lambda x: x.replace(r\"romance\", \"romantic\"))\n",
    "df.sample(5)"
   ]
  },
  {
   "cell_type": "code",
   "execution_count": 7,
   "metadata": {},
   "outputs": [
    {
     "data": {
      "text/plain": [
       "(406, 8)"
      ]
     },
     "execution_count": 7,
     "metadata": {},
     "output_type": "execute_result"
    }
   ],
   "source": [
    "df = df[~df[\"Genre\"].isin(['scifience', 'mob','unknown','road'])]\n",
    "df.shape"
   ]
  },
  {
   "cell_type": "code",
   "execution_count": 8,
   "metadata": {},
   "outputs": [
    {
     "data": {
      "text/plain": [
       "array(['drama', 'comedy', 'sports', 'action', 'romantic', 'thriller',\n",
       "       'period', 'political', 'fantasy', 'gangster', 'masala', 'crime',\n",
       "       'psychological', 'superhero', 'spy', 'adult', 'black', 'war',\n",
       "       'historical', 'horror', 'animation', 'biopic', 'heist', 'family',\n",
       "       'scifi', 'social', 'anthology', 'supernatural', 'epic',\n",
       "       'biography', 'musical'], dtype=object)"
      ]
     },
     "execution_count": 8,
     "metadata": {},
     "output_type": "execute_result"
    }
   ],
   "source": [
    "df.Genre.unique()"
   ]
  },
  {
   "cell_type": "code",
   "execution_count": 9,
   "metadata": {},
   "outputs": [
    {
     "data": {
      "text/plain": [
       "action           92\n",
       "romantic         66\n",
       "comedy           63\n",
       "drama            53\n",
       "thriller         28\n",
       "horror           25\n",
       "crime            15\n",
       "fantasy          12\n",
       "political         6\n",
       "psychological     5\n",
       "sports            5\n",
       "supernatural      5\n",
       "social            4\n",
       "masala            4\n",
       "heist             2\n",
       "spy               2\n",
       "adult             2\n",
       "period            2\n",
       "historical        2\n",
       "family            2\n",
       "superhero         1\n",
       "epic              1\n",
       "war               1\n",
       "anthology         1\n",
       "gangster          1\n",
       "scifi             1\n",
       "black             1\n",
       "musical           1\n",
       "biography         1\n",
       "biopic            1\n",
       "animation         1\n",
       "Name: Genre, dtype: int64"
      ]
     },
     "execution_count": 9,
     "metadata": {},
     "output_type": "execute_result"
    }
   ],
   "source": [
    "df.Genre.value_counts()"
   ]
  },
  {
   "cell_type": "code",
   "execution_count": 15,
   "metadata": {},
   "outputs": [
    {
     "data": {
      "text/plain": [
       "'action'"
      ]
     },
     "execution_count": 15,
     "metadata": {},
     "output_type": "execute_result"
    }
   ],
   "source": [
    "df.Genre.value_counts().idxmax(5)"
   ]
  },
  {
   "cell_type": "code",
   "execution_count": 81,
   "metadata": {},
   "outputs": [
    {
     "data": {
      "image/png": "[encoded data removed]",
      "text/plain": [
       "<Figure size 1080x504 with 1 Axes>"
      ]
     },
     "metadata": {},
     "output_type": "display_data"
    }
   ],
   "source": [
    "figd=(15,7)\n",
    "fig,ax=plt.subplots(figsize=figd)\n",
    "sns.countplot(x = \"Genre\", data=df, order = df.Genre.value_counts().index)\n",
    "plt.xticks(rotation=90)\n",
    "plt.show()"
   ]
  },
  {
   "cell_type": "code",
   "execution_count": 82,
   "metadata": {},
   "outputs": [
    {
     "data": {
      "image/png": "[encoded data removed]",
      "text/plain": [
       "<Figure size 576x360 with 1 Axes>"
      ]
     },
     "metadata": {},
     "output_type": "display_data"
    }
   ],
   "source": [
    "figd=(8,5)\n",
    "fig,ax=plt.subplots(figsize=figd)\n",
    "sns.countplot(x = \"Release Year\", data=df, order = df[\"Release Year\"].value_counts().index)\n",
    "plt.xticks(rotation=30)\n",
    "plt.show()"
   ]
  },
  {
   "cell_type": "code",
   "execution_count": 101,
   "metadata": {},
   "outputs": [
    {
     "data": {
      "text/plain": [
       "Genre\n",
       "crime            8.6\n",
       "social           8.5\n",
       "action           8.1\n",
       "fantasy          8.1\n",
       "romantic         8.1\n",
       "drama            8.1\n",
       "period           8.0\n",
       "epic             7.9\n",
       "horror           7.9\n",
       "thriller         7.9\n",
       "comedy           7.9\n",
       "supernatural     7.9\n",
       "political        7.9\n",
       "musical          7.6\n",
       "sports           7.3\n",
       "spy              7.3\n",
       "anthology        6.6\n",
       "biopic           6.5\n",
       "psychological    6.4\n",
       "adult            6.4\n",
       "historical       6.2\n",
       "gangster         6.2\n",
       "scifi            6.2\n",
       "family           6.0\n",
       "masala           5.8\n",
       "heist            5.6\n",
       "black            5.6\n",
       "superhero        5.6\n",
       "war              5.5\n",
       "animation        4.8\n",
       "biography        3.7\n",
       "Name: Rating, dtype: float64"
      ]
     },
     "execution_count": 101,
     "metadata": {},
     "output_type": "execute_result"
    }
   ],
   "source": [
    "df.groupby(\"Genre\")[\"Rating\"].max().sort_values(ascending=False)"
   ]
  },
  {
   "cell_type": "code",
   "execution_count": 100,
   "metadata": {},
   "outputs": [
    {
     "data": {
      "image/png": "[encoded data removed]",
      "text/plain": [
       "<Figure size 1080x504 with 1 Axes>"
      ]
     },
     "metadata": {},
     "output_type": "display_data"
    }
   ],
   "source": [
    "figd=(15,7)\n",
    "fig,ax=plt.subplots(figsize=figd)\n",
    "m = df.groupby(\"Genre\")[\"Rating\"].max().sort_values(ascending=False)\n",
    "sns.barplot(x = m.index, y= m.values, data=df, ci=None)\n",
    "plt.xticks(rotation=90)\n",
    "plt.show()"
   ]
  },
  {
   "cell_type": "code",
   "execution_count": null,
   "metadata": {},
   "outputs": [],
   "source": []
  }
 ],
 "metadata": {
  "kernelspec": {
   "display_name": "Python 3",
   "language": "python",
   "name": "python3"
  },
  "language_info": {
   "codemirror_mode": {
    "name": "ipython",
    "version": 3
   },
   "file_extension": ".py",
   "mimetype": "text/x-python",
   "name": "python",
   "nbconvert_exporter": "python",
   "pygments_lexer": "ipython3",
   "version": "3.8.5"
  }
 },
 "nbformat": 4,
 "nbformat_minor": 4
}
